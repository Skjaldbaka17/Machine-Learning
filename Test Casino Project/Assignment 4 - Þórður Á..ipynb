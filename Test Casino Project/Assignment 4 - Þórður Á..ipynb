{
 "cells": [
  {
   "cell_type": "markdown",
   "metadata": {},
   "source": [
    "This is a notebook deticated to try an find out the best strategy in a casino (note that there most definitely are better ways to accomplish this than the one displayed here)"
   ]
  },
  {
   "cell_type": "code",
   "execution_count": 1581,
   "metadata": {},
   "outputs": [],
   "source": [
    "import requests\n",
    "import random \n",
    "import pandas as pd\n",
    "import numpy as np\n",
    "import random\n",
    "import bisect\n",
    "import collections\n",
    "import json\n",
    "from tqdm.notebook import tqdm"
   ]
  },
  {
   "cell_type": "code",
   "execution_count": 1582,
   "metadata": {},
   "outputs": [],
   "source": [
    "def zero_one_policy(policy):\n",
    "    \"\"\"Turns given policy into a \"only pick one slot machine\" type of policy \n",
    "\n",
    "    Parameters\n",
    "    ----------\n",
    "    policy: list(float) \n",
    "        List of non-negative numbers where the highest number indicates the \"best\" slot machine.\n",
    "        0 indicates never choose the slot machine represented by that index.\n",
    "\n",
    "    Returns\n",
    "    -------\n",
    "    list(float)\n",
    "        Returns an array of equal length as the policy with zeros in all indexes except one where is is \"1\", which\n",
    "        represent the \"best\" slot machine according to the given policy.\n",
    "        \n",
    "    \"\"\"\n",
    "    idx = np.argmax(policy)\n",
    "    new_pol = np.zeros(len(policy))\n",
    "    new_pol[idx] = 1.0\n",
    "    return new_pol\n",
    "\n",
    "def get_prob(policy):\n",
    "    \"\"\"Turns given policy into a array of probabilities \n",
    "\n",
    "    Parameters\n",
    "    ----------\n",
    "    policy: list(float) \n",
    "        List of non-negative numbers where the highest number indicates the \"best\" slot machine.\n",
    "        0 indicates never choose the slot machine represented by that index.\n",
    "\n",
    "    Returns\n",
    "    -------\n",
    "    list(float)\n",
    "        Returns an array of equal length as the policy with each number representing the probability of \n",
    "        choosing that index (i.e. slot machine) if using the given policy.\n",
    "        \n",
    "    \"\"\"\n",
    "    cdf_pol = cdf(policy)\n",
    "    n = len(policy)\n",
    "    probs = np.zeros(n)\n",
    "    probs[0] = cdf_pol[0]\n",
    "    for i in range(1,n):\n",
    "        probs[i] = cdf_pol[i] - cdf_pol[i-1]\n",
    "    return probs\n",
    "\n",
    "def cdf(policy):\n",
    "    \"\"\"Turns given policy into an array as a cumulative distribution function. \n",
    "\n",
    "    Parameters\n",
    "    ----------\n",
    "    policy: list(float) \n",
    "        List of non-negative numbers where the highest number indicates the \"best\" slot machine.\n",
    "        0 indicates never choose the slot machine represented by that index.\n",
    "\n",
    "    Returns\n",
    "    -------\n",
    "    list(float)\n",
    "        Returns an array of equal length as the policy with each number representing the cumulative probability of \n",
    "        choosing and index equal to or less than the given index (i.e. slot machine) if using the given policy.\n",
    "        \n",
    "    \"\"\"\n",
    "    total = sum(policy)\n",
    "    result = []\n",
    "    cumsum = 0\n",
    "    for w in policy:\n",
    "        cumsum += w\n",
    "        result.append(cumsum / total)\n",
    "    return result\n",
    "\n",
    "def choice(policy):\n",
    "    \"\"\"Choose an index (i.e. slot machine) according to the policy.\n",
    "\n",
    "    Parameters\n",
    "    ----------\n",
    "    policy: list(float) \n",
    "        List of non-negative numbers where the highest number indicates the \"best\" slot machine.\n",
    "        0 indicates never choose the slot machine represented by that index.\n",
    "\n",
    "    Returns\n",
    "    -------\n",
    "    Integer\n",
    "        the \"random\"-integer/slot-machine chosen by following the given policy.\n",
    "        \n",
    "    \"\"\"\n",
    "    cdf_vals = cdf(policy)\n",
    "    x = random.random()\n",
    "    idx = bisect.bisect(cdf_vals, x)\n",
    "    return idx"
   ]
  },
  {
   "cell_type": "code",
   "execution_count": 1583,
   "metadata": {},
   "outputs": [],
   "source": [
    "def play_test(player_id, game_id, policy, iterations, penalty = 0.1, reward = 0.025, isTraining = True, easy=True):\n",
    "    \"\"\"Plays in the test-casino.\n",
    "\n",
    "    Parameters\n",
    "    ----------\n",
    "    player_id: Integer\n",
    "        The id of the player\n",
    "        \n",
    "    game_id: Integer\n",
    "        The id of the game (i.e. 0,1,2,3,4)\n",
    "        \n",
    "    policy:list(float) \n",
    "        List of non-negative numbers where the highest number indicates the \"best\" slot machine.\n",
    "        0 indicates never choose the slot machine represented by that index.\n",
    "    \n",
    "    iterations: Integer\n",
    "        Number of times the game is played.\n",
    "        \n",
    "    penalty: float\n",
    "        A number that changes the policy by subtracting from the particular policy index (i.e. slot machine) played\n",
    "        if for that iteration it led to a loss (does nothing if isTraining is False)\n",
    "    \n",
    "    reward: float\n",
    "        A number that changes the policy by adding to the particular policy-index (i.e. slot machine) played \n",
    "        if for that iteration it led to a win (does nothing if isTraining is False)\n",
    "    \n",
    "    isTraining: Boolean\n",
    "        If true the function changes the policy according to the training. IF false does not change the policy.\n",
    "    \n",
    "    easy: Boolean\n",
    "        Is only used for game_id = 0, if True it will be easier to differentiate between the slot machines than if False\n",
    "        \n",
    "\n",
    "    Returns\n",
    "    -------\n",
    "    list(float):\n",
    "        The policy, new policy if isTraining is True otherwise the same policy as supplied.\n",
    "    pandas.DataFrame:\n",
    "        With information on each play/iteration, if the algorithm won/lost that round and what slot it bet on\n",
    "        ({\"winnings\":list(Integers), \"slotid\":list(Integer)})\n",
    "        \n",
    "    \"\"\"\n",
    "    data = []\n",
    "    \n",
    "    for i in range(iterations):\n",
    "        slot_id = choice(policy)\n",
    "\n",
    "        dct = {\"slotid\":slot_id}\n",
    "        result = test_casino(game_id, slot_id, player_id,easy)\n",
    "\n",
    "        if(result == \"Error\"):\n",
    "            print(\"Handle\")\n",
    "\n",
    "        if(isTraining):\n",
    "            if(result[\"winnings\"] == 1):\n",
    "                if(policy[slot_id] + reward <= 2):\n",
    "                    policy[slot_id] += reward\n",
    "            elif (policy[slot_id] - penalty > 0):\n",
    "                policy[slot_id] -= penalty\n",
    "            \n",
    "\n",
    "        dct.update(result)\n",
    "        data.append(dct)\n",
    "        \n",
    "    df = pd.DataFrame(data) \n",
    "    return policy, df"
   ]
  },
  {
   "cell_type": "code",
   "execution_count": 1584,
   "metadata": {},
   "outputs": [],
   "source": [
    "def train(game_id, player_id, penalty = 0.1, reward = 0.025, easy=True, iterations = 100):\n",
    "    \"\"\"Trains a new policy in the test-casino.\n",
    "\n",
    "    Parameters\n",
    "    ----------\n",
    "    player_id: Integer\n",
    "        The id of the player\n",
    "        \n",
    "    game_id: Integer\n",
    "        The id of the game (i.e. 0,1,2,3,4)\n",
    "    \n",
    "    iterations: Integer\n",
    "        Number of times the game is played /trained on.\n",
    "        \n",
    "    penalty: float\n",
    "        A number that changes the policy by subtracting from the particular policy index (i.e. slot machine) played\n",
    "        if for that iteration it led to a loss (does nothing if isTraining is False)\n",
    "    \n",
    "    reward: float\n",
    "        A number that changes the policy by adding to the particular policy-index (i.e. slot machine) played \n",
    "        if for that iteration it led to a win (does nothing if isTraining is False)\n",
    "    \n",
    "    easy: Boolean\n",
    "        Is only used for game_id = 0, if True it will be easier to differentiate between the slot machines than if False\n",
    "        \n",
    "\n",
    "    Returns\n",
    "    -------\n",
    "    list(float):\n",
    "        The policy, new policy if isTraining is True otherwise the same policy as supplied.\n",
    "    pandas.DataFrame:\n",
    "        With information on each play/iteration, if the algorithm won/lost that round and what slot it bet on\n",
    "        ({\"winnings\":list(Integers), \"slotid\":list(Integer)})\n",
    "        \n",
    "    \"\"\"\n",
    "    policy = []\n",
    "    if game_id == 0:\n",
    "        policy = np.ones(2)\n",
    "    elif game_id == 1 or game_id == 2:\n",
    "        policy = np.ones(3)\n",
    "    elif game_id == 3:\n",
    "        policy = np.ones(4)\n",
    "    elif game_id == 4:\n",
    "        policy = np.ones(6)\n",
    "    return play(\n",
    "        player_id, \n",
    "        game_id, \n",
    "        policy, \n",
    "        iterations, \n",
    "        penalty=penalty,\n",
    "        reward=reward,\n",
    "        training=True,\n",
    "    easy=easy)"
   ]
  },
  {
   "cell_type": "code",
   "execution_count": 1585,
   "metadata": {},
   "outputs": [],
   "source": [
    "def test_casino(game_id, slot_id, player_id, easy = True):\n",
    "    \"\"\"A test casino trying to mirror the casino in the project.\n",
    "\n",
    "    Parameters\n",
    "    ----------\n",
    "    game_id: Integer\n",
    "        The id of the game (i.e. 0,1,2,3,4)\n",
    "        \n",
    "    slot_id: Integer\n",
    "        The id of the slot to be bet on.\n",
    "    \n",
    "    player_id: Integer\n",
    "        The id of the player\n",
    "    \n",
    "    easy: Boolean\n",
    "        Is only used for game_id = 0, if True it will be easier to differentiate between the slot machines than if False\n",
    "        \n",
    "\n",
    "    Returns\n",
    "    -------\n",
    "    Dictionary:\n",
    "       {\"winnings\": Integer (0 or 1), \"slotwon\": Integer}\n",
    "        \n",
    "    \"\"\"\n",
    "    slot_probs = []\n",
    "    if game_id == 0:\n",
    "        if easy:\n",
    "            slot_probs = [0.3, 0.7]\n",
    "        else:\n",
    "            slot_probs = [0.45, 0.55]\n",
    "    elif game_id == 1:\n",
    "        slot_probs = [0.1, 0.1, 0.8]\n",
    "    elif game_id == 2:\n",
    "        slot_probs = [0.05, 0.4, 0.55]\n",
    "    elif game_id == 3:\n",
    "        slot_probs = [0.1, 0.2, 0.3, 0.4]\n",
    "    elif game_id == 4:\n",
    "        slot_probs = [0.01, 0.1, 0.29, 0.1, 0.2, 0.3]\n",
    "\n",
    "    slot_won = choice(slot_probs)\n",
    "    draw = random.random()\n",
    "    winner = {\"winnings\":int(slot_id == slot_won), \"slotwon\":slot_won}\n",
    "    return winner"
   ]
  },
  {
   "cell_type": "code",
   "execution_count": 1586,
   "metadata": {},
   "outputs": [],
   "source": [
    "def reinf_hyperparameters(game_id = 0):\n",
    "    \"\"\"A Grid search to try and figure out which hyperparameters work the best for each slot-machine scenario.\n",
    "\n",
    "    Parameters\n",
    "    ----------\n",
    "    game_id: Integer\n",
    "        The id of the game to be played / tested (i.e. 0,1,2,3,4)\n",
    "        \n",
    "    Returns\n",
    "    -------\n",
    "    Dictionary:\n",
    "       {\"reward\": list(float), \"penalty\": list(float), \"iterations\":list(Integer), \"accuracy\": list(float)}\n",
    "        \n",
    "    \"\"\"\n",
    "    player_id = 1\n",
    "    iterations = 50\n",
    "    \n",
    "    if game_id == 0:\n",
    "        best_slot_idx = 1\n",
    "        grid = {\n",
    "            \"reward\": [0.001, 0.002, 0.004, 0.008, 0.016],\n",
    "            \"penalty\": [0.0005, 0.001, 0.002, 0.004, 0.008],\n",
    "            \"iterations\": [100, 200]\n",
    "        }\n",
    "    elif game_id == 1 or game_id == 2:\n",
    "        best_slot_idx = 2\n",
    "        grid = {\n",
    "            \"reward\": [0.001, 0.002, 0.004, 0.008, 0.016],\n",
    "            \"penalty\": [0.0005, 0.001, 0.002, 0.004, 0.008],\n",
    "            \"iterations\": [100, 200]\n",
    "        }\n",
    "    elif game_id == 3:\n",
    "        best_slot_idx = 3\n",
    "        grid = {\n",
    "            \"reward\": [0.001, 0.002, 0.004, 0.008, 0.016],\n",
    "            \"penalty\": [0.0001, 0.0005, 0.001, 0.002],\n",
    "            \"iterations\": [100, 200]\n",
    "        }\n",
    "    elif game_id == 4:\n",
    "        best_slot_idx = 5\n",
    "        grid = {\n",
    "            \"reward\": [0.001, 0.002, 0.004, 0.008, 0.016],\n",
    "            \"penalty\": [0.0001, 0.0005, 0.001, 0.002],\n",
    "            \"iterations\": [100, 200, 400]\n",
    "        }\n",
    "    \n",
    "    results = {\n",
    "        \"reward\":[],\n",
    "        \"penalty\":[],\n",
    "        \"iterations\":[],\n",
    "        \"accuracy\":[],\n",
    "    }\n",
    "    for rew in grid[\"reward\"]:\n",
    "        for pen in grid[\"penalty\"]:\n",
    "            for it in grid[\"iterations\"]:\n",
    "                correct = 0\n",
    "                for i in range(iterations):\n",
    "                    new_policy, df = train(\n",
    "                        game_id, \n",
    "                        player_id,\n",
    "                        penalty = pen, \n",
    "                        reward = rew, \n",
    "                        easy = False,\n",
    "                        iterations = it\n",
    "                    )\n",
    "                    idx = np.argmax(new_policy)\n",
    "                    if(idx == best_slot_idx):\n",
    "                        correct += 1\n",
    "\n",
    "                accuracy = float(correct / iterations)\n",
    "                results[\"reward\"].append(rew)\n",
    "                results[\"penalty\"].append(pen)\n",
    "                results[\"accuracy\"].append(accuracy)\n",
    "                results[\"iterations\"].append(it)\n",
    "    return results"
   ]
  },
  {
   "cell_type": "code",
   "execution_count": 1587,
   "metadata": {},
   "outputs": [
    {
     "name": "stdout",
     "output_type": "stream",
     "text": [
      "reward          0.0020\n",
      "penalty         0.0005\n",
      "iterations    200.0000\n",
      "accuracy        0.9400\n",
      "Name: 11, dtype: float64\n",
      "    reward  penalty  iterations  accuracy\n",
      "3    0.001   0.0010         200      0.92\n",
      "7    0.001   0.0040         200      0.92\n",
      "11   0.002   0.0005         200      0.94\n",
      "13   0.002   0.0010         200      0.94\n",
      "27   0.004   0.0040         200      0.92\n",
      "29   0.004   0.0080         200      0.94\n",
      "31   0.008   0.0005         200      0.92\n",
      "35   0.008   0.0020         200      0.94\n",
      "37   0.008   0.0040         200      0.94\n",
      "39   0.008   0.0080         200      0.94\n",
      "43   0.016   0.0010         200      0.92\n"
     ]
    }
   ],
   "source": [
    "res_dict = reinf_hyperparameters(game_id = 0)\n",
    "df = pd.DataFrame(res_dict)\n",
    "print(df.loc[df[\"accuracy\"].idxmax()])\n",
    "print(df.loc[df[\"accuracy\"] > 0.9])"
   ]
  },
  {
   "cell_type": "code",
   "execution_count": 1588,
   "metadata": {},
   "outputs": [
    {
     "name": "stdout",
     "output_type": "stream",
     "text": [
      "reward          0.0010\n",
      "penalty         0.0005\n",
      "iterations    100.0000\n",
      "accuracy        1.0000\n",
      "Name: 0, dtype: float64\n",
      "    reward  penalty  iterations  accuracy\n",
      "0    0.001   0.0005         100       1.0\n",
      "1    0.001   0.0005         200       1.0\n",
      "2    0.001   0.0010         100       1.0\n",
      "3    0.001   0.0010         200       1.0\n",
      "4    0.001   0.0020         100       1.0\n",
      "5    0.001   0.0020         200       1.0\n",
      "6    0.001   0.0040         100       1.0\n",
      "7    0.001   0.0040         200       1.0\n",
      "8    0.001   0.0080         100       1.0\n",
      "9    0.001   0.0080         200       1.0\n",
      "10   0.002   0.0005         100       1.0\n",
      "11   0.002   0.0005         200       1.0\n",
      "12   0.002   0.0010         100       1.0\n",
      "13   0.002   0.0010         200       1.0\n",
      "14   0.002   0.0020         100       1.0\n",
      "15   0.002   0.0020         200       1.0\n",
      "16   0.002   0.0040         100       1.0\n",
      "17   0.002   0.0040         200       1.0\n",
      "18   0.002   0.0080         100       1.0\n",
      "19   0.002   0.0080         200       1.0\n",
      "20   0.004   0.0005         100       1.0\n",
      "21   0.004   0.0005         200       1.0\n",
      "22   0.004   0.0010         100       1.0\n",
      "23   0.004   0.0010         200       1.0\n",
      "24   0.004   0.0020         100       1.0\n",
      "25   0.004   0.0020         200       1.0\n",
      "26   0.004   0.0040         100       1.0\n",
      "27   0.004   0.0040         200       1.0\n",
      "28   0.004   0.0080         100       1.0\n",
      "29   0.004   0.0080         200       1.0\n",
      "30   0.008   0.0005         100       1.0\n",
      "31   0.008   0.0005         200       1.0\n",
      "32   0.008   0.0010         100       1.0\n",
      "33   0.008   0.0010         200       1.0\n",
      "34   0.008   0.0020         100       1.0\n",
      "35   0.008   0.0020         200       1.0\n",
      "36   0.008   0.0040         100       1.0\n",
      "37   0.008   0.0040         200       1.0\n",
      "38   0.008   0.0080         100       1.0\n",
      "39   0.008   0.0080         200       1.0\n",
      "40   0.016   0.0005         100       1.0\n",
      "41   0.016   0.0005         200       1.0\n",
      "42   0.016   0.0010         100       1.0\n",
      "43   0.016   0.0010         200       1.0\n",
      "44   0.016   0.0020         100       1.0\n",
      "45   0.016   0.0020         200       1.0\n",
      "46   0.016   0.0040         100       1.0\n",
      "47   0.016   0.0040         200       1.0\n",
      "48   0.016   0.0080         100       1.0\n",
      "49   0.016   0.0080         200       1.0\n"
     ]
    }
   ],
   "source": [
    "res_dict = reinf_hyperparameters(game_id = 1)\n",
    "df = pd.DataFrame(res_dict)\n",
    "print(df.loc[df[\"accuracy\"].idxmax()])\n",
    "print(df.loc[df[\"accuracy\"] > 0.9])"
   ]
  },
  {
   "cell_type": "code",
   "execution_count": 1589,
   "metadata": {},
   "outputs": [
    {
     "name": "stdout",
     "output_type": "stream",
     "text": [
      "reward          0.002\n",
      "penalty         0.001\n",
      "iterations    200.000\n",
      "accuracy        1.000\n",
      "Name: 13, dtype: float64\n",
      "    reward  penalty  iterations  accuracy\n",
      "1    0.001   0.0005         200      0.98\n",
      "3    0.001   0.0010         200      0.96\n",
      "5    0.001   0.0020         200      0.92\n",
      "7    0.001   0.0040         200      0.92\n",
      "9    0.001   0.0080         200      0.94\n",
      "11   0.002   0.0005         200      0.92\n",
      "13   0.002   0.0010         200      1.00\n",
      "15   0.002   0.0020         200      1.00\n",
      "17   0.002   0.0040         200      0.98\n",
      "19   0.002   0.0080         200      0.94\n",
      "21   0.004   0.0005         200      0.96\n",
      "23   0.004   0.0010         200      0.92\n",
      "25   0.004   0.0020         200      0.98\n",
      "27   0.004   0.0040         200      0.98\n",
      "29   0.004   0.0080         200      0.98\n",
      "31   0.008   0.0005         200      0.92\n",
      "35   0.008   0.0020         200      0.98\n",
      "37   0.008   0.0040         200      0.96\n",
      "39   0.008   0.0080         200      0.96\n",
      "40   0.016   0.0005         100      0.92\n",
      "43   0.016   0.0010         200      0.96\n",
      "45   0.016   0.0020         200      0.96\n",
      "47   0.016   0.0040         200      0.94\n",
      "48   0.016   0.0080         100      0.92\n",
      "49   0.016   0.0080         200      0.96\n"
     ]
    }
   ],
   "source": [
    "res_dict = reinf_hyperparameters(game_id = 2)\n",
    "df = pd.DataFrame(res_dict)\n",
    "print(df.loc[df[\"accuracy\"].idxmax()])\n",
    "print(df.loc[df[\"accuracy\"] > 0.9])"
   ]
  },
  {
   "cell_type": "code",
   "execution_count": 1590,
   "metadata": {},
   "outputs": [
    {
     "name": "stdout",
     "output_type": "stream",
     "text": [
      "reward          0.0160\n",
      "penalty         0.0001\n",
      "iterations    200.0000\n",
      "accuracy        0.9000\n",
      "Name: 33, dtype: float64\n",
      "Empty DataFrame\n",
      "Columns: [reward, penalty, iterations, accuracy]\n",
      "Index: []\n"
     ]
    }
   ],
   "source": [
    "res_dict = reinf_hyperparameters(game_id = 3)\n",
    "df = pd.DataFrame(res_dict)\n",
    "print(df.loc[df[\"accuracy\"].idxmax()])\n",
    "print(df.loc[df[\"accuracy\"] > 0.9])"
   ]
  },
  {
   "cell_type": "code",
   "execution_count": 1591,
   "metadata": {},
   "outputs": [
    {
     "name": "stdout",
     "output_type": "stream",
     "text": [
      "reward          0.001\n",
      "penalty         0.002\n",
      "iterations    400.000\n",
      "accuracy        0.700\n",
      "Name: 11, dtype: float64\n",
      "Empty DataFrame\n",
      "Columns: [reward, penalty, iterations, accuracy]\n",
      "Index: []\n"
     ]
    }
   ],
   "source": [
    "res_dict = reinf_hyperparameters(game_id = 4)\n",
    "df = pd.DataFrame(res_dict)\n",
    "print(df.loc[df[\"accuracy\"].idxmax()])\n",
    "print(df.loc[df[\"accuracy\"] > 0.9])"
   ]
  },
  {
   "cell_type": "markdown",
   "metadata": {},
   "source": [
    "## Play !!!"
   ]
  },
  {
   "cell_type": "code",
   "execution_count": 1592,
   "metadata": {},
   "outputs": [],
   "source": [
    "def save_to_file(game_id,df):\n",
    "    \"\"\"Saves the Dataframe supplied to the end of the file ./data/real/real_game_{game_id}.csv.\n",
    "\n",
    "    Parameters\n",
    "    ----------\n",
    "    game_id: Integer\n",
    "        The id of the game to be played / tested (i.e. 0,1,2,3,4)\n",
    "    \n",
    "    df: pandas.DataFrame\n",
    "        the dataframe to save to the end of the file.\n",
    "        \n",
    "    Returns\n",
    "    -------\n",
    "    None\n",
    "        \n",
    "    \"\"\"\n",
    "    new_query = False\n",
    "    \n",
    "    try:\n",
    "        old_df = pd.read_csv(f\"./data/real/real_game_{game_id}.csv\", index_col=0)\n",
    "        print(\"Old Query :)\")\n",
    "    except FileNotFoundError:\n",
    "        new_query = True\n",
    "        print(\"New Query boys!\")\n",
    "    \n",
    "    if(new_query):\n",
    "        df.to_csv(f\"./data/real/real_game_{game_id}.csv\")\n",
    "    else:\n",
    "        new_df = old_df.append(df,ignore_index=True,sort=True)\n",
    "        new_df.to_csv(f\"./data/real/real_game_{game_id}.csv\")"
   ]
  },
  {
   "cell_type": "code",
   "execution_count": 1633,
   "metadata": {},
   "outputs": [],
   "source": [
    "def play_game(policy, reward = 0.04, penalty=0.02 ,game_id = 0, iterations = 10, isTraining = True,verbose=True):\n",
    "    \"\"\" Place game at game_id according to the policy and saves the history to a csv file. \n",
    "\n",
    "    Parameters\n",
    "    ----------\n",
    "    policy:list(float) \n",
    "        List of non-negative numbers where the highest number indicates the \"best\" slot machine.\n",
    "        0 indicates never choose the slot machine represented by that index.\n",
    "    \n",
    "    reward: float\n",
    "        A number that changes the policy by adding to the particular policy-index (i.e. slot machine) played \n",
    "        if for that iteration it led to a win (does nothing if isTraining is False)\n",
    "        \n",
    "    penalty: float\n",
    "        A number that changes the policy by subtracting from the particular policy index (i.e. slot machine) played\n",
    "        if for that iteration it led to a loss (does nothing if isTraining is False)\n",
    "    \n",
    "    game_id: Integer\n",
    "        The id of the game (i.e. 0,1,2,3,4)\n",
    "        \n",
    "    iterations: Integer\n",
    "        Number of times the game is played.\n",
    "    \n",
    "    isTraining: Boolean\n",
    "        If true the function changes the policy according to the training. IF false does not change the policy.\n",
    "        \n",
    "    Returns\n",
    "    -------\n",
    "    list(float)\n",
    "        The ending policy.\n",
    "        \n",
    "    \"\"\"\n",
    "    player_id = \"e196\"\n",
    "    \n",
    "    data = {\n",
    "        \"winnings\": [],\n",
    "        \"slotid\": []\n",
    "    }\n",
    "    \n",
    "    for it in tqdm(range(iterations)):\n",
    "        try:\n",
    "            slot_id = choice(policy)\n",
    "            PARAMS = {'gameid':game_id,'slotid':slot_id,'playerid':player_id}\n",
    "            r = requests.get('http://188.166.85.114:80/play', params = PARAMS)\n",
    "            r.raise_for_status()\n",
    "            if(r.content == b'You cannot play more turns.'):\n",
    "                break\n",
    "            result = json.loads(r.content.decode(\"utf-8\"))\n",
    "            data[\"winnings\"].append(int(result[\"winnings\"]))\n",
    "            data[\"slotid\"].append(slot_id)\n",
    "            \n",
    "            if(isTraining):\n",
    "                if(result[\"winnings\"] == 1):\n",
    "                    if(policy[slot_id] + reward <= 2):\n",
    "                        policy[slot_id] += reward\n",
    "                elif (policy[slot_id] - penalty > 0):\n",
    "                    policy[slot_id] -= penalty\n",
    "            \n",
    "        except requests.exceptions.RequestException as e:  # This is the correct syntax\n",
    "            #print(\"Error\", e)\n",
    "            break\n",
    "        except JSONDecodeError as e:\n",
    "            break\n",
    "    if(len(data[\"winnings\"]) == 0):\n",
    "        return False\n",
    "    df = pd.DataFrame(data)\n",
    "    save_to_file(game_id, df, name=\"real_game\")\n",
    "    return policy"
   ]
  },
  {
   "cell_type": "markdown",
   "metadata": {},
   "source": [
    "## Play Game 0. 2 Slots"
   ]
  },
  {
   "cell_type": "code",
   "execution_count": 1634,
   "metadata": {},
   "outputs": [],
   "source": [
    "def get_old_policy(n=2,game_id=0, reward=0.04, penalty=0.02, verbose=True):\n",
    "    \"\"\" Calculates the policy one would get given the reward, penalty and the history of games in the file \n",
    "    corresponding to the game_id given.\n",
    "\n",
    "    Parameters\n",
    "    ----------\n",
    "    n: Integer\n",
    "        Number of slot machines in this game_id\n",
    "    \n",
    "    game_id: Integer\n",
    "        The id of the game (i.e. 0,1,2,3,4)\n",
    "        \n",
    "    reward: float\n",
    "        A number that changes the policy by adding to the particular policy-index (i.e. slot machine) played \n",
    "        if for that iteration it led to a win\n",
    "        \n",
    "    penalty: float\n",
    "        A number that changes the policy by subtracting from the particular policy index (i.e. slot machine) played\n",
    "        if for that iteration it led to a loss\n",
    "    \n",
    "    Returns\n",
    "    -------\n",
    "    list(float)\n",
    "        The calculated policy.\n",
    "        \n",
    "    \"\"\"\n",
    "    policy = np.ones(n)\n",
    "    try:\n",
    "        df = pd.read_csv(f\"./data/real/real_game_{game_id}.csv\", index_col=0)\n",
    "        if(verbose):\n",
    "            print(\"Old Query :)\")\n",
    "        for index, row in df.iterrows():\n",
    "            if(row[\"winnings\"] == 1):\n",
    "                if(policy[int(row['slotid'])] + reward <= 2):\n",
    "                    policy[int(row['slotid'])] += reward\n",
    "            elif (policy[int(row['slotid'])] - penalty > 0):\n",
    "                policy[int(row['slotid'])] -= penalty\n",
    "                \n",
    "            \n",
    "    except FileNotFoundError:\n",
    "        print(\"No Data Found\")\n",
    "        return np.ones(n)\n",
    "    return policy"
   ]
  },
  {
   "cell_type": "code",
   "execution_count": 1635,
   "metadata": {},
   "outputs": [],
   "source": [
    "def get_stats(n, game_id=0):\n",
    "    \"\"\" Calculates the stats from the history of place for this game_id. Only stats calculated are probabilities of\n",
    "        given slot machine (winnings / number of times this machine was picked), counts number of wins overall and \n",
    "        number of plays\n",
    "\n",
    "    Parameters\n",
    "    ----------\n",
    "    n: Integer\n",
    "        Number of slot machines in this game_id\n",
    "    \n",
    "    game_id: Integer\n",
    "        The id of the game (i.e. 0,1,2,3,4)\n",
    "\n",
    "    Returns\n",
    "    -------\n",
    "    list(float)\n",
    "        Probabilities\n",
    "    \n",
    "    Integer\n",
    "        Overall wins\n",
    "    Integer\n",
    "        Overall Plays\n",
    "        \n",
    "    \"\"\"\n",
    "    try:\n",
    "        df = pd.read_csv(f\"./data/real/real_game_{game_id}.csv\", index_col=0)\n",
    "        print(\"Old Query :)\")\n",
    "        counts = np.zeros(n)\n",
    "        iters = np.zeros(n)\n",
    "        for index, row in df.iterrows():\n",
    "            counts[int(row['slotid'])] += row[\"winnings\"]\n",
    "            iters[int(row['slotid'])] += 1\n",
    "        probabilities = counts / iters\n",
    "        return probabilities, sum(counts), sum(iters)\n",
    "                \n",
    "            \n",
    "    except FileNotFoundError:\n",
    "        print(\"No Data Found\")"
   ]
  },
  {
   "cell_type": "code",
   "execution_count": 1636,
   "metadata": {},
   "outputs": [],
   "source": [
    "def play_game_with(n = 2, game_id = 0, train_iterations=10, plays = 100, reward=0.1, penalty=0.1, verbose = True):\n",
    "    \"\"\" Place all 10.000 games accordin to the specified parameters.\n",
    "\n",
    "    Parameters\n",
    "    ----------\n",
    "    n: Integer\n",
    "        Number of slot machines in this game\n",
    "    \n",
    "    game_id: Integer\n",
    "        The id of the game (i.e. 0,1,2,3,4)\n",
    "    \n",
    "    train_iterations: Integer\n",
    "        Number of times to iterate the \"training\" before deciding which slot machine is best\n",
    "    \n",
    "    plays: Integer\n",
    "        Number of plays per training iteration.\n",
    "    \n",
    "    reward: float\n",
    "        A number that changes the policy by adding to the particular policy-index (i.e. slot machine) played \n",
    "        if for that iteration it led to a win (does nothing if isTraining is False)\n",
    "        \n",
    "    penalty: float\n",
    "        A number that changes the policy by subtracting from the particular policy index (i.e. slot machine) played\n",
    "        if for that iteration it led to a loss (does nothing if isTraining is False)\n",
    "    Returns\n",
    "    -------\n",
    "    None\n",
    "        \n",
    "    \"\"\"\n",
    "    policy = np.ones(n)\n",
    "    if(verbose):\n",
    "        print(get_stats(n, game_id=game_id))\n",
    "    for i in range(train_iterations):\n",
    "        policy = get_old_policy(n=n, game_id=game_id, penalty=0.001, reward=0.001,verbose=verbose)\n",
    "        super_threshold_indices = policy < np.max(policy)-0.01\n",
    "        policy[super_threshold_indices] = 0\n",
    "        if(verbose):\n",
    "            print(policy)\n",
    "        play_game(policy,\n",
    "          reward = 0.001, penalty=0.001 ,game_id = game_id, \n",
    "          iterations = plays, isTraining = True, verbose=verbose)\n",
    "    get_stats(n, game_id=game_id)\n",
    "    if(verbose):\n",
    "        print(get_stats(n, game_id=game_id))\n",
    "    policy = get_old_policy(n=n, game_id=game_id, penalty=0.001, reward=0.001,verbose=verbose)\n",
    "    super_threshold_indices = policy < np.max(policy)-0.01\n",
    "    policy[super_threshold_indices] = 0\n",
    "    print(policy)\n",
    "    \n",
    "    play_game(policy,\n",
    "          reward = 0.001, penalty=0.001 ,game_id = 4, \n",
    "          iterations = 10000 - plays*iterations, isTraining = True, verbose=verbose)\n",
    "    print(get_stats(n, game_id=game_id))"
   ]
  },
  {
   "cell_type": "code",
   "execution_count": 1637,
   "metadata": {
    "collapsed": true
   },
   "outputs": [
    {
     "data": {
      "application/vnd.jupyter.widget-view+json": {
       "model_id": "e3bf3a50e17a497ca16726ef4b484091",
       "version_major": 2,
       "version_minor": 0
      },
      "text/plain": [
       "HBox(children=(IntProgress(value=0, max=75), HTML(value='')))"
      ]
     },
     "metadata": {},
     "output_type": "display_data"
    },
    {
     "data": {
      "application/vnd.jupyter.widget-view+json": {
       "model_id": "03bd7626f6ff40ffba144350a62f40e7",
       "version_major": 2,
       "version_minor": 0
      },
      "text/plain": [
       "HBox(children=(IntProgress(value=0, max=75), HTML(value='')))"
      ]
     },
     "metadata": {},
     "output_type": "display_data"
    },
    {
     "name": "stdout",
     "output_type": "stream",
     "text": [
      "\n"
     ]
    },
    {
     "data": {
      "application/vnd.jupyter.widget-view+json": {
       "model_id": "d6700b4d5cc544b8b04911774f61acb9",
       "version_major": 2,
       "version_minor": 0
      },
      "text/plain": [
       "HBox(children=(IntProgress(value=0, max=75), HTML(value='')))"
      ]
     },
     "metadata": {},
     "output_type": "display_data"
    },
    {
     "data": {
      "application/vnd.jupyter.widget-view+json": {
       "model_id": "ee3c1e1b8e194c008c395bfb392882ed",
       "version_major": 2,
       "version_minor": 0
      },
      "text/plain": [
       "HBox(children=(IntProgress(value=0, max=75), HTML(value='')))"
      ]
     },
     "metadata": {},
     "output_type": "display_data"
    },
    {
     "data": {
      "application/vnd.jupyter.widget-view+json": {
       "model_id": "7321683bbf5e4bebbfc66dbe72bff57e",
       "version_major": 2,
       "version_minor": 0
      },
      "text/plain": [
       "HBox(children=(IntProgress(value=0, max=75), HTML(value='')))"
      ]
     },
     "metadata": {},
     "output_type": "display_data"
    },
    {
     "data": {
      "application/vnd.jupyter.widget-view+json": {
       "model_id": "e9a0e306c03f449db8cf9a66d36ffe18",
       "version_major": 2,
       "version_minor": 0
      },
      "text/plain": [
       "HBox(children=(IntProgress(value=0, max=75), HTML(value='')))"
      ]
     },
     "metadata": {},
     "output_type": "display_data"
    },
    {
     "name": "stdout",
     "output_type": "stream",
     "text": [
      "\n",
      "Old Query :)\n",
      "[1.013 0.   ]\n"
     ]
    },
    {
     "data": {
      "application/vnd.jupyter.widget-view+json": {
       "model_id": "b2e91e73bf284987a7408d7f86982717",
       "version_major": 2,
       "version_minor": 0
      },
      "text/plain": [
       "HBox(children=(IntProgress(value=0, max=8125), HTML(value='')))"
      ]
     },
     "metadata": {},
     "output_type": "display_data"
    },
    {
     "name": "stdout",
     "output_type": "stream",
     "text": [
      "Old Query :)\n",
      "(array([0.50066551, 0.13533835]), 4908.0, 9900.0)\n"
     ]
    }
   ],
   "source": [
    "play_game_with(n=2, game_id = 0, train_iterations = 6, plays = 75, reward = 0.04, penalty=0.02, verbose=False)"
   ]
  },
  {
   "cell_type": "markdown",
   "metadata": {},
   "source": [
    "## Play Game 1. 3 Slots"
   ]
  },
  {
   "cell_type": "code",
   "execution_count": 1638,
   "metadata": {
    "collapsed": true
   },
   "outputs": [
    {
     "name": "stdout",
     "output_type": "stream",
     "text": [
      "Old Query :)\n",
      "(array([0.304     , 0.46979866, 0.69504421]), 6868.0, 10000.0)\n",
      "Old Query :)\n",
      "[0. 0. 2.]\n"
     ]
    },
    {
     "data": {
      "application/vnd.jupyter.widget-view+json": {
       "model_id": "e48c15985c1d4da58cdfbbd3f058db58",
       "version_major": 2,
       "version_minor": 0
      },
      "text/plain": [
       "HBox(children=(IntProgress(value=0), HTML(value='')))"
      ]
     },
     "metadata": {},
     "output_type": "display_data"
    },
    {
     "name": "stdout",
     "output_type": "stream",
     "text": [
      "Old Query :)\n",
      "[0. 0. 2.]\n"
     ]
    },
    {
     "data": {
      "application/vnd.jupyter.widget-view+json": {
       "model_id": "632d27b32ab048d9806172e9726b7e46",
       "version_major": 2,
       "version_minor": 0
      },
      "text/plain": [
       "HBox(children=(IntProgress(value=0), HTML(value='')))"
      ]
     },
     "metadata": {},
     "output_type": "display_data"
    },
    {
     "name": "stdout",
     "output_type": "stream",
     "text": [
      "Old Query :)\n",
      "[0. 0. 2.]\n"
     ]
    },
    {
     "data": {
      "application/vnd.jupyter.widget-view+json": {
       "model_id": "ab7879bdd590469cbd712699ea29059b",
       "version_major": 2,
       "version_minor": 0
      },
      "text/plain": [
       "HBox(children=(IntProgress(value=0), HTML(value='')))"
      ]
     },
     "metadata": {},
     "output_type": "display_data"
    },
    {
     "name": "stdout",
     "output_type": "stream",
     "text": [
      "\n",
      "\n",
      "Old Query :)\n",
      "Old Query :)\n",
      "(array([0.304     , 0.46979866, 0.69504421]), 6868.0, 10000.0)\n",
      "Old Query :)\n",
      "[0. 0. 2.]\n"
     ]
    },
    {
     "data": {
      "application/vnd.jupyter.widget-view+json": {
       "model_id": "df8eee3ad8e44e86a9660410ddecb656",
       "version_major": 2,
       "version_minor": 0
      },
      "text/plain": [
       "HBox(children=(IntProgress(value=0, max=7500), HTML(value='')))"
      ]
     },
     "metadata": {},
     "output_type": "display_data"
    },
    {
     "name": "stdout",
     "output_type": "stream",
     "text": [
      "Old Query :)\n",
      "(array([0.304     , 0.46979866, 0.69504421]), 6868.0, 10000.0)\n"
     ]
    }
   ],
   "source": [
    "play_game_with(n=3, game_id = 1, train_iterations = 3, plays = 100, reward = 0.0005, penalty=0.001)"
   ]
  },
  {
   "cell_type": "markdown",
   "metadata": {},
   "source": [
    "### GAmeID = 2"
   ]
  },
  {
   "cell_type": "code",
   "execution_count": 1639,
   "metadata": {
    "collapsed": true
   },
   "outputs": [
    {
     "name": "stdout",
     "output_type": "stream",
     "text": [
      "Old Query :)\n",
      "(array([0.26315789, 0.52857143, 0.60386914]), 6014.0, 10000.0)\n",
      "Old Query :)\n",
      "[0.    0.    1.997]\n"
     ]
    },
    {
     "data": {
      "application/vnd.jupyter.widget-view+json": {
       "model_id": "89f9d048656b44d082e9585d60aae277",
       "version_major": 2,
       "version_minor": 0
      },
      "text/plain": [
       "HBox(children=(IntProgress(value=0), HTML(value='')))"
      ]
     },
     "metadata": {},
     "output_type": "display_data"
    },
    {
     "name": "stdout",
     "output_type": "stream",
     "text": [
      "Old Query :)\n",
      "[0.    0.    1.997]\n"
     ]
    },
    {
     "data": {
      "application/vnd.jupyter.widget-view+json": {
       "model_id": "5bdce59d66c743f68a07ca520419c29a",
       "version_major": 2,
       "version_minor": 0
      },
      "text/plain": [
       "HBox(children=(IntProgress(value=0), HTML(value='')))"
      ]
     },
     "metadata": {},
     "output_type": "display_data"
    },
    {
     "name": "stdout",
     "output_type": "stream",
     "text": [
      "Old Query :)\n",
      "[0.    0.    1.997]\n"
     ]
    },
    {
     "data": {
      "application/vnd.jupyter.widget-view+json": {
       "model_id": "bb30fa79534040b99a695b247550c520",
       "version_major": 2,
       "version_minor": 0
      },
      "text/plain": [
       "HBox(children=(IntProgress(value=0), HTML(value='')))"
      ]
     },
     "metadata": {},
     "output_type": "display_data"
    },
    {
     "name": "stdout",
     "output_type": "stream",
     "text": [
      "\n",
      "\n",
      "Old Query :)\n",
      "[0.    0.    1.997]\n"
     ]
    },
    {
     "data": {
      "application/vnd.jupyter.widget-view+json": {
       "model_id": "45d0d50a56194e40b391b47cb993c1cf",
       "version_major": 2,
       "version_minor": 0
      },
      "text/plain": [
       "HBox(children=(IntProgress(value=0), HTML(value='')))"
      ]
     },
     "metadata": {},
     "output_type": "display_data"
    },
    {
     "name": "stdout",
     "output_type": "stream",
     "text": [
      "Old Query :)\n",
      "[0.    0.    1.997]\n"
     ]
    },
    {
     "data": {
      "application/vnd.jupyter.widget-view+json": {
       "model_id": "35076102df20479fb8a77ed6b96bd76b",
       "version_major": 2,
       "version_minor": 0
      },
      "text/plain": [
       "HBox(children=(IntProgress(value=0), HTML(value='')))"
      ]
     },
     "metadata": {},
     "output_type": "display_data"
    },
    {
     "name": "stdout",
     "output_type": "stream",
     "text": [
      "Old Query :)\n",
      "Old Query :)\n",
      "(array([0.26315789, 0.52857143, 0.60386914]), 6014.0, 10000.0)\n",
      "Old Query :)\n",
      "[0.    0.    1.997]\n"
     ]
    },
    {
     "data": {
      "application/vnd.jupyter.widget-view+json": {
       "model_id": "56b032a8136b448eafbc76c05fd38ea1",
       "version_major": 2,
       "version_minor": 0
      },
      "text/plain": [
       "HBox(children=(IntProgress(value=0, max=7500), HTML(value='')))"
      ]
     },
     "metadata": {},
     "output_type": "display_data"
    },
    {
     "name": "stdout",
     "output_type": "stream",
     "text": [
      "Old Query :)\n",
      "(array([0.26315789, 0.52857143, 0.60386914]), 6014.0, 10000.0)\n"
     ]
    }
   ],
   "source": [
    "play_game_with(n=3, game_id = 2, train_iterations = 5, plays = 100, reward = 0.0005, penalty=0.001)"
   ]
  },
  {
   "cell_type": "markdown",
   "metadata": {},
   "source": [
    "### Game 3:"
   ]
  },
  {
   "cell_type": "code",
   "execution_count": 1640,
   "metadata": {
    "collapsed": true
   },
   "outputs": [
    {
     "name": "stdout",
     "output_type": "stream",
     "text": [
      "Old Query :)\n",
      "(array([0.38613861, 0.61034263, 0.45535714, 0.57840617]), 6051.0, 10000.0)\n",
      "Old Query :)\n",
      "[0.    1.994 0.    0.   ]\n"
     ]
    },
    {
     "data": {
      "application/vnd.jupyter.widget-view+json": {
       "model_id": "ff94f753d4e541bd8948da7a42aefca0",
       "version_major": 2,
       "version_minor": 0
      },
      "text/plain": [
       "HBox(children=(IntProgress(value=0), HTML(value='')))"
      ]
     },
     "metadata": {},
     "output_type": "display_data"
    },
    {
     "name": "stdout",
     "output_type": "stream",
     "text": [
      "Old Query :)\n",
      "[0.    1.994 0.    0.   ]\n"
     ]
    },
    {
     "data": {
      "application/vnd.jupyter.widget-view+json": {
       "model_id": "291baa6716b3438896178507b7ba1790",
       "version_major": 2,
       "version_minor": 0
      },
      "text/plain": [
       "HBox(children=(IntProgress(value=0), HTML(value='')))"
      ]
     },
     "metadata": {},
     "output_type": "display_data"
    },
    {
     "name": "stdout",
     "output_type": "stream",
     "text": [
      "Old Query :)\n",
      "[0.    1.994 0.    0.   ]\n"
     ]
    },
    {
     "data": {
      "application/vnd.jupyter.widget-view+json": {
       "model_id": "34f504913aa54f11ac4514146ca87ac2",
       "version_major": 2,
       "version_minor": 0
      },
      "text/plain": [
       "HBox(children=(IntProgress(value=0), HTML(value='')))"
      ]
     },
     "metadata": {},
     "output_type": "display_data"
    },
    {
     "name": "stdout",
     "output_type": "stream",
     "text": [
      "Old Query :)\n",
      "[0.    1.994 0.    0.   ]\n"
     ]
    },
    {
     "data": {
      "application/vnd.jupyter.widget-view+json": {
       "model_id": "5057a52ed74e4868a1f6400b1599b46c",
       "version_major": 2,
       "version_minor": 0
      },
      "text/plain": [
       "HBox(children=(IntProgress(value=0), HTML(value='')))"
      ]
     },
     "metadata": {},
     "output_type": "display_data"
    },
    {
     "name": "stdout",
     "output_type": "stream",
     "text": [
      "Old Query :)\n",
      "[0.    1.994 0.    0.   ]\n",
      "\n",
      "\n",
      "\n"
     ]
    },
    {
     "data": {
      "application/vnd.jupyter.widget-view+json": {
       "model_id": "df862faa265440cea2a26de84e2c011b",
       "version_major": 2,
       "version_minor": 0
      },
      "text/plain": [
       "HBox(children=(IntProgress(value=0), HTML(value='')))"
      ]
     },
     "metadata": {},
     "output_type": "display_data"
    },
    {
     "name": "stdout",
     "output_type": "stream",
     "text": [
      "Old Query :)\n",
      "[0.    1.994 0.    0.   ]\n"
     ]
    },
    {
     "data": {
      "application/vnd.jupyter.widget-view+json": {
       "model_id": "eb886bda9e7d495e96fe96add2551a50",
       "version_major": 2,
       "version_minor": 0
      },
      "text/plain": [
       "HBox(children=(IntProgress(value=0), HTML(value='')))"
      ]
     },
     "metadata": {},
     "output_type": "display_data"
    },
    {
     "name": "stdout",
     "output_type": "stream",
     "text": [
      "Old Query :)\n",
      "[0.    1.994 0.    0.   ]\n"
     ]
    },
    {
     "data": {
      "application/vnd.jupyter.widget-view+json": {
       "model_id": "2b01a837e3b94331b14089384db52726",
       "version_major": 2,
       "version_minor": 0
      },
      "text/plain": [
       "HBox(children=(IntProgress(value=0), HTML(value='')))"
      ]
     },
     "metadata": {},
     "output_type": "display_data"
    },
    {
     "name": "stdout",
     "output_type": "stream",
     "text": [
      "Old Query :)\n",
      "[0.    1.994 0.    0.   ]\n"
     ]
    },
    {
     "data": {
      "application/vnd.jupyter.widget-view+json": {
       "model_id": "7a9c1356a7d446e5a213efc86acf55ec",
       "version_major": 2,
       "version_minor": 0
      },
      "text/plain": [
       "HBox(children=(IntProgress(value=0), HTML(value='')))"
      ]
     },
     "metadata": {},
     "output_type": "display_data"
    },
    {
     "name": "stdout",
     "output_type": "stream",
     "text": [
      "Old Query :)\n",
      "[0.    1.994 0.    0.   ]\n"
     ]
    },
    {
     "data": {
      "application/vnd.jupyter.widget-view+json": {
       "model_id": "e7bf69377d7a439ca43358764bb9fa81",
       "version_major": 2,
       "version_minor": 0
      },
      "text/plain": [
       "HBox(children=(IntProgress(value=0), HTML(value='')))"
      ]
     },
     "metadata": {},
     "output_type": "display_data"
    },
    {
     "name": "stdout",
     "output_type": "stream",
     "text": [
      "\n",
      "Old Query :)\n",
      "[0.    1.994 0.    0.   ]\n"
     ]
    },
    {
     "data": {
      "application/vnd.jupyter.widget-view+json": {
       "model_id": "90e2f5aef2b0407bb24ffd85da75fa0f",
       "version_major": 2,
       "version_minor": 0
      },
      "text/plain": [
       "HBox(children=(IntProgress(value=0), HTML(value='')))"
      ]
     },
     "metadata": {},
     "output_type": "display_data"
    },
    {
     "name": "stdout",
     "output_type": "stream",
     "text": [
      "Old Query :)\n",
      "Old Query :)\n",
      "(array([0.38613861, 0.61034263, 0.45535714, 0.57840617]), 6051.0, 10000.0)\n",
      "Old Query :)\n",
      "[0.    1.994 0.    0.   ]\n"
     ]
    },
    {
     "data": {
      "application/vnd.jupyter.widget-view+json": {
       "model_id": "c22202bc7e674b72bf8bc7fbe45bc44b",
       "version_major": 2,
       "version_minor": 0
      },
      "text/plain": [
       "HBox(children=(IntProgress(value=0, max=7500), HTML(value='')))"
      ]
     },
     "metadata": {},
     "output_type": "display_data"
    },
    {
     "name": "stdout",
     "output_type": "stream",
     "text": [
      "Old Query :)\n",
      "(array([0.38613861, 0.61034263, 0.45535714, 0.57840617]), 6051.0, 10000.0)\n"
     ]
    }
   ],
   "source": [
    "play_game_with(n=4, game_id = 3, train_iterations = 10, plays = 100, reward = 0.001, penalty=0.002)"
   ]
  },
  {
   "cell_type": "markdown",
   "metadata": {},
   "source": [
    "### Game 4:"
   ]
  },
  {
   "cell_type": "code",
   "execution_count": 1641,
   "metadata": {
    "collapsed": true
   },
   "outputs": [
    {
     "name": "stdout",
     "output_type": "stream",
     "text": [
      "Old Query :)\n",
      "(array([0.5483871 , 0.60550459, 0.6039604 , 0.53      , 0.55172414,\n",
      "       0.64778404]), 6435.0, 10000.0)\n",
      "Old Query :)\n",
      "[0.    0.    0.    0.    0.    1.999]\n"
     ]
    },
    {
     "data": {
      "application/vnd.jupyter.widget-view+json": {
       "model_id": "88e95888147a4c38a45365ea5880b482",
       "version_major": 2,
       "version_minor": 0
      },
      "text/plain": [
       "HBox(children=(IntProgress(value=0), HTML(value='')))"
      ]
     },
     "metadata": {},
     "output_type": "display_data"
    },
    {
     "name": "stdout",
     "output_type": "stream",
     "text": [
      "Old Query :)\n",
      "[0.    0.    0.    0.    0.    1.999]\n"
     ]
    },
    {
     "data": {
      "application/vnd.jupyter.widget-view+json": {
       "model_id": "4ebbce41328e4f1c8e3b17785d0351fe",
       "version_major": 2,
       "version_minor": 0
      },
      "text/plain": [
       "HBox(children=(IntProgress(value=0), HTML(value='')))"
      ]
     },
     "metadata": {},
     "output_type": "display_data"
    },
    {
     "name": "stdout",
     "output_type": "stream",
     "text": [
      "Old Query :)\n",
      "[0.    0.    0.    0.    0.    1.999]\n",
      "\n",
      "\n",
      "\n"
     ]
    },
    {
     "data": {
      "application/vnd.jupyter.widget-view+json": {
       "model_id": "37def24679b9450393bace1da367ba26",
       "version_major": 2,
       "version_minor": 0
      },
      "text/plain": [
       "HBox(children=(IntProgress(value=0), HTML(value='')))"
      ]
     },
     "metadata": {},
     "output_type": "display_data"
    },
    {
     "name": "stdout",
     "output_type": "stream",
     "text": [
      "Old Query :)\n",
      "[0.    0.    0.    0.    0.    1.999]\n"
     ]
    },
    {
     "data": {
      "application/vnd.jupyter.widget-view+json": {
       "model_id": "26f5e6781db44e51aeddc09e647a240f",
       "version_major": 2,
       "version_minor": 0
      },
      "text/plain": [
       "HBox(children=(IntProgress(value=0), HTML(value='')))"
      ]
     },
     "metadata": {},
     "output_type": "display_data"
    },
    {
     "name": "stdout",
     "output_type": "stream",
     "text": [
      "Old Query :)\n",
      "[0.    0.    0.    0.    0.    1.999]\n"
     ]
    },
    {
     "data": {
      "application/vnd.jupyter.widget-view+json": {
       "model_id": "a869bde7d6c54c3f8d2e42ca3aedbf9c",
       "version_major": 2,
       "version_minor": 0
      },
      "text/plain": [
       "HBox(children=(IntProgress(value=0), HTML(value='')))"
      ]
     },
     "metadata": {},
     "output_type": "display_data"
    },
    {
     "name": "stdout",
     "output_type": "stream",
     "text": [
      "Old Query :)\n",
      "[0.    0.    0.    0.    0.    1.999]\n"
     ]
    },
    {
     "data": {
      "application/vnd.jupyter.widget-view+json": {
       "model_id": "ceb5b108b35f44e684a416a10a41a897",
       "version_major": 2,
       "version_minor": 0
      },
      "text/plain": [
       "HBox(children=(IntProgress(value=0), HTML(value='')))"
      ]
     },
     "metadata": {},
     "output_type": "display_data"
    },
    {
     "name": "stdout",
     "output_type": "stream",
     "text": [
      "Old Query :)\n",
      "[0.    0.    0.    0.    0.    1.999]\n"
     ]
    },
    {
     "data": {
      "application/vnd.jupyter.widget-view+json": {
       "model_id": "7daed3b69d5a49849ad5cec27f72b878",
       "version_major": 2,
       "version_minor": 0
      },
      "text/plain": [
       "HBox(children=(IntProgress(value=0), HTML(value='')))"
      ]
     },
     "metadata": {},
     "output_type": "display_data"
    },
    {
     "name": "stdout",
     "output_type": "stream",
     "text": [
      "\n",
      "\n",
      "\n",
      "Old Query :)\n",
      "[0.    0.    0.    0.    0.    1.999]\n"
     ]
    },
    {
     "data": {
      "application/vnd.jupyter.widget-view+json": {
       "model_id": "b5a60fd4654042eea81fa529d6153f0f",
       "version_major": 2,
       "version_minor": 0
      },
      "text/plain": [
       "HBox(children=(IntProgress(value=0), HTML(value='')))"
      ]
     },
     "metadata": {},
     "output_type": "display_data"
    },
    {
     "name": "stdout",
     "output_type": "stream",
     "text": [
      "Old Query :)\n",
      "[0.    0.    0.    0.    0.    1.999]\n"
     ]
    },
    {
     "data": {
      "application/vnd.jupyter.widget-view+json": {
       "model_id": "0e2ab2635519463794ebe5710682ecfc",
       "version_major": 2,
       "version_minor": 0
      },
      "text/plain": [
       "HBox(children=(IntProgress(value=0), HTML(value='')))"
      ]
     },
     "metadata": {},
     "output_type": "display_data"
    },
    {
     "name": "stdout",
     "output_type": "stream",
     "text": [
      "Old Query :)\n",
      "[0.    0.    0.    0.    0.    1.999]\n"
     ]
    },
    {
     "data": {
      "application/vnd.jupyter.widget-view+json": {
       "model_id": "16c69b8b2cee47239300af2e22852768",
       "version_major": 2,
       "version_minor": 0
      },
      "text/plain": [
       "HBox(children=(IntProgress(value=0), HTML(value='')))"
      ]
     },
     "metadata": {},
     "output_type": "display_data"
    },
    {
     "name": "stdout",
     "output_type": "stream",
     "text": [
      "Old Query :)\n",
      "Old Query :)\n",
      "(array([0.5483871 , 0.60550459, 0.6039604 , 0.53      , 0.55172414,\n",
      "       0.64778404]), 6435.0, 10000.0)\n",
      "Old Query :)\n",
      "[0.    0.    0.    0.    0.    1.999]\n"
     ]
    },
    {
     "data": {
      "application/vnd.jupyter.widget-view+json": {
       "model_id": "6571aa8cb96a4947b807d97db43f83be",
       "version_major": 2,
       "version_minor": 0
      },
      "text/plain": [
       "HBox(children=(IntProgress(value=0, max=7500), HTML(value='')))"
      ]
     },
     "metadata": {},
     "output_type": "display_data"
    },
    {
     "name": "stdout",
     "output_type": "stream",
     "text": [
      "\n",
      "\n",
      "Old Query :)\n",
      "(array([0.5483871 , 0.60550459, 0.6039604 , 0.53      , 0.55172414,\n",
      "       0.64778404]), 6435.0, 10000.0)\n"
     ]
    }
   ],
   "source": [
    "play_game_with(n=6, game_id = 4, train_iterations = 10, plays = 100, reward = 0.001, penalty=0.001)"
   ]
  },
  {
   "cell_type": "markdown",
   "metadata": {},
   "source": [
    "### Game 5:"
   ]
  },
  {
   "cell_type": "code",
   "execution_count": 1642,
   "metadata": {},
   "outputs": [],
   "source": [
    "def final_shot():\n",
    "    policy = np.ones(2) \n",
    "    for i in range(14):\n",
    "        print(get_stats(2, game_id=5))\n",
    "        if(i % 2 == 0):\n",
    "            policy = np.ones(2)\n",
    "            new_policy = play_game(policy,\n",
    "              reward = 0.008, penalty=0.008 ,game_id = 5, \n",
    "              iterations = 50, isTraining = True)\n",
    "            super_threshold_indices = new_policy < np.max(new_policy)\n",
    "            policy[super_threshold_indices] = 0\n",
    "            policy[super_threshold_indices == False] = 1\n",
    "        else:\n",
    "            print(policy)\n",
    "            play_game(policy,\n",
    "          reward = 0.008, penalty=0.008 ,game_id = 5, \n",
    "          iterations = 950, isTraining = True)\n",
    "            "
   ]
  },
  {
   "cell_type": "code",
   "execution_count": 1643,
   "metadata": {
    "collapsed": true
   },
   "outputs": [
    {
     "name": "stdout",
     "output_type": "stream",
     "text": [
      "Old Query :)\n",
      "(array([0.54727579, 0.58526204]), 5123.0, 9100.0)\n"
     ]
    },
    {
     "data": {
      "application/vnd.jupyter.widget-view+json": {
       "model_id": "5c170c62ad5f46f78968e3538928f20e",
       "version_major": 2,
       "version_minor": 0
      },
      "text/plain": [
       "HBox(children=(IntProgress(value=0, max=50), HTML(value='')))"
      ]
     },
     "metadata": {},
     "output_type": "display_data"
    },
    {
     "name": "stdout",
     "output_type": "stream",
     "text": [
      "Old Query :)\n",
      "(array([0.54727579, 0.58526204]), 5123.0, 9100.0)\n",
      "[1. 1.]\n"
     ]
    },
    {
     "data": {
      "application/vnd.jupyter.widget-view+json": {
       "model_id": "664cb6c8cdd24589bccba096ac39822d",
       "version_major": 2,
       "version_minor": 0
      },
      "text/plain": [
       "HBox(children=(IntProgress(value=0, max=950), HTML(value='')))"
      ]
     },
     "metadata": {},
     "output_type": "display_data"
    },
    {
     "name": "stdout",
     "output_type": "stream",
     "text": [
      "Old Query :)\n",
      "(array([0.54727579, 0.58526204]), 5123.0, 9100.0)\n"
     ]
    },
    {
     "data": {
      "application/vnd.jupyter.widget-view+json": {
       "model_id": "699bc459c729472ea4e6e2cb5edb77b6",
       "version_major": 2,
       "version_minor": 0
      },
      "text/plain": [
       "HBox(children=(IntProgress(value=0, max=50), HTML(value='')))"
      ]
     },
     "metadata": {},
     "output_type": "display_data"
    },
    {
     "name": "stdout",
     "output_type": "stream",
     "text": [
      "Old Query :)\n",
      "(array([0.54727579, 0.58526204]), 5123.0, 9100.0)\n",
      "[1. 1.]\n",
      "\n",
      "\n"
     ]
    },
    {
     "data": {
      "application/vnd.jupyter.widget-view+json": {
       "model_id": "1221e71b37c44c6b936fa89916cbb73e",
       "version_major": 2,
       "version_minor": 0
      },
      "text/plain": [
       "HBox(children=(IntProgress(value=0, max=950), HTML(value='')))"
      ]
     },
     "metadata": {},
     "output_type": "display_data"
    },
    {
     "name": "stdout",
     "output_type": "stream",
     "text": [
      "Old Query :)\n",
      "(array([0.54727579, 0.58526204]), 5123.0, 9100.0)\n"
     ]
    },
    {
     "data": {
      "application/vnd.jupyter.widget-view+json": {
       "model_id": "766af8839ca44e728f7a0644e3a6f231",
       "version_major": 2,
       "version_minor": 0
      },
      "text/plain": [
       "HBox(children=(IntProgress(value=0, max=50), HTML(value='')))"
      ]
     },
     "metadata": {},
     "output_type": "display_data"
    },
    {
     "name": "stdout",
     "output_type": "stream",
     "text": [
      "Old Query :)\n",
      "(array([0.54727579, 0.58526204]), 5123.0, 9100.0)\n",
      "[1. 1.]\n"
     ]
    },
    {
     "data": {
      "application/vnd.jupyter.widget-view+json": {
       "model_id": "a75070fc96714edaa771e95a01e9aea2",
       "version_major": 2,
       "version_minor": 0
      },
      "text/plain": [
       "HBox(children=(IntProgress(value=0, max=950), HTML(value='')))"
      ]
     },
     "metadata": {},
     "output_type": "display_data"
    },
    {
     "name": "stdout",
     "output_type": "stream",
     "text": [
      "Old Query :)\n",
      "(array([0.54727579, 0.58526204]), 5123.0, 9100.0)\n"
     ]
    },
    {
     "data": {
      "application/vnd.jupyter.widget-view+json": {
       "model_id": "d8c2758d90dc428c9a2476bab93f8b6b",
       "version_major": 2,
       "version_minor": 0
      },
      "text/plain": [
       "HBox(children=(IntProgress(value=0, max=50), HTML(value='')))"
      ]
     },
     "metadata": {},
     "output_type": "display_data"
    },
    {
     "name": "stdout",
     "output_type": "stream",
     "text": [
      "Old Query :)\n",
      "(array([0.54727579, 0.58526204]), 5123.0, 9100.0)\n",
      "[1. 1.]\n"
     ]
    },
    {
     "data": {
      "application/vnd.jupyter.widget-view+json": {
       "model_id": "666be6f535114816a15a5574b2812e44",
       "version_major": 2,
       "version_minor": 0
      },
      "text/plain": [
       "HBox(children=(IntProgress(value=0, max=950), HTML(value='')))"
      ]
     },
     "metadata": {},
     "output_type": "display_data"
    },
    {
     "name": "stdout",
     "output_type": "stream",
     "text": [
      "\n",
      "Old Query :)\n",
      "(array([0.54727579, 0.58526204]), 5123.0, 9100.0)\n"
     ]
    },
    {
     "data": {
      "application/vnd.jupyter.widget-view+json": {
       "model_id": "03188029e60248309076a8ee9a31db00",
       "version_major": 2,
       "version_minor": 0
      },
      "text/plain": [
       "HBox(children=(IntProgress(value=0, max=50), HTML(value='')))"
      ]
     },
     "metadata": {},
     "output_type": "display_data"
    },
    {
     "name": "stdout",
     "output_type": "stream",
     "text": [
      "Old Query :)\n",
      "(array([0.54727579, 0.58526204]), 5123.0, 9100.0)\n",
      "[1. 1.]\n"
     ]
    },
    {
     "data": {
      "application/vnd.jupyter.widget-view+json": {
       "model_id": "0172c2b73b2b4550ac864e1bc6ed02e4",
       "version_major": 2,
       "version_minor": 0
      },
      "text/plain": [
       "HBox(children=(IntProgress(value=0, max=950), HTML(value='')))"
      ]
     },
     "metadata": {},
     "output_type": "display_data"
    },
    {
     "name": "stdout",
     "output_type": "stream",
     "text": [
      "Old Query :)\n",
      "(array([0.54727579, 0.58526204]), 5123.0, 9100.0)\n"
     ]
    },
    {
     "data": {
      "application/vnd.jupyter.widget-view+json": {
       "model_id": "a14b4e8bd04149d7a30ace446fedecf4",
       "version_major": 2,
       "version_minor": 0
      },
      "text/plain": [
       "HBox(children=(IntProgress(value=0, max=50), HTML(value='')))"
      ]
     },
     "metadata": {},
     "output_type": "display_data"
    },
    {
     "name": "stdout",
     "output_type": "stream",
     "text": [
      "Old Query :)\n",
      "(array([0.54727579, 0.58526204]), 5123.0, 9100.0)\n",
      "[1. 1.]\n"
     ]
    },
    {
     "data": {
      "application/vnd.jupyter.widget-view+json": {
       "model_id": "17c80ce62c4249eaa1465048dbf806fa",
       "version_major": 2,
       "version_minor": 0
      },
      "text/plain": [
       "HBox(children=(IntProgress(value=0, max=950), HTML(value='')))"
      ]
     },
     "metadata": {},
     "output_type": "display_data"
    },
    {
     "name": "stdout",
     "output_type": "stream",
     "text": [
      "\n",
      "\n",
      "\n",
      "Old Query :)\n",
      "(array([0.54727579, 0.58526204]), 5123.0, 9100.0)\n"
     ]
    },
    {
     "data": {
      "application/vnd.jupyter.widget-view+json": {
       "model_id": "243955f4a50049079167f5bed1b7afe4",
       "version_major": 2,
       "version_minor": 0
      },
      "text/plain": [
       "HBox(children=(IntProgress(value=0, max=50), HTML(value='')))"
      ]
     },
     "metadata": {},
     "output_type": "display_data"
    },
    {
     "name": "stdout",
     "output_type": "stream",
     "text": [
      "Old Query :)\n",
      "(array([0.54727579, 0.58526204]), 5123.0, 9100.0)\n",
      "[1. 1.]\n"
     ]
    },
    {
     "data": {
      "application/vnd.jupyter.widget-view+json": {
       "model_id": "98d54c413765414c87e122d3cc8423fb",
       "version_major": 2,
       "version_minor": 0
      },
      "text/plain": [
       "HBox(children=(IntProgress(value=0, max=950), HTML(value='')))"
      ]
     },
     "metadata": {},
     "output_type": "display_data"
    }
   ],
   "source": [
    "final_shot()"
   ]
  },
  {
   "cell_type": "code",
   "execution_count": null,
   "metadata": {},
   "outputs": [],
   "source": []
  },
  {
   "cell_type": "code",
   "execution_count": null,
   "metadata": {},
   "outputs": [],
   "source": []
  },
  {
   "cell_type": "code",
   "execution_count": null,
   "metadata": {},
   "outputs": [],
   "source": []
  },
  {
   "cell_type": "code",
   "execution_count": null,
   "metadata": {},
   "outputs": [],
   "source": []
  }
 ],
 "metadata": {
  "kernelspec": {
   "display_name": "Python 3",
   "language": "python",
   "name": "python3"
  },
  "language_info": {
   "codemirror_mode": {
    "name": "ipython",
    "version": 3
   },
   "file_extension": ".py",
   "mimetype": "text/x-python",
   "name": "python",
   "nbconvert_exporter": "python",
   "pygments_lexer": "ipython3",
   "version": "3.7.4"
  }
 },
 "nbformat": 4,
 "nbformat_minor": 2
}
